{
 "cells": [
  {
   "attachments": {},
   "cell_type": "markdown",
   "metadata": {},
   "source": [
    "# ASTRO Pi & Microgravity\n",
    "\n",
    "$F_{g} = \\frac{(G * m_{Astro Pi} * m_{Object})}{d^2}$\n",
    "\n",
    "$F_{g} = \\frac{m}{s^2}$\n",
    "\n",
    "$G = 6.6743 * 10^{-11} \\frac{N * m^2}{kg^2}$\n",
    "\n",
    "$m_{Astro Pi} = 0.05 kg$\n",
    "\n",
    "$m_{Object} = 70 kg$\n",
    "\n",
    "$d = 0.5 m$\n",
    "\n",
    "$F_{g} = \\frac{(6.6743 * 10^{-11} * 0.05 * 70)}{0.5^2} = 9.34402e^{-10} \\frac{m}{s^2} = microgravity$"
   ]
  },
  {
   "cell_type": "code",
   "execution_count": 1,
   "metadata": {},
   "outputs": [],
   "source": [
    "from scipy.constants import G"
   ]
  },
  {
   "cell_type": "code",
   "execution_count": 2,
   "metadata": {},
   "outputs": [
    {
     "name": "stdout",
     "output_type": "stream",
     "text": [
      "Distance between 2 objects: 0.1 m, Microgravity: 2.3360049999999995e-08 m/s^2\n",
      "Distance between 2 objects: 0.2 m, Microgravity: 5.840012499999999e-09 m/s^2\n",
      "Distance between 2 objects: 0.3 m, Microgravity: 2.5955611111111115e-09 m/s^2\n",
      "Distance between 2 objects: 0.4 m, Microgravity: 1.4600031249999997e-09 m/s^2\n",
      "Distance between 2 objects: 0.5 m, Microgravity: 9.34402e-10 m/s^2\n",
      "Distance between 2 objects: 0.6 m, Microgravity: 6.488902777777779e-10 m/s^2\n",
      "Distance between 2 objects: 0.7 m, Microgravity: 4.767357142857143e-10 m/s^2\n",
      "Distance between 2 objects: 0.8 m, Microgravity: 3.650007812499999e-10 m/s^2\n",
      "Distance between 2 objects: 0.9 m, Microgravity: 2.8839567901234567e-10 m/s^2\n"
     ]
    }
   ],
   "source": [
    "for d in range(1, 10):\n",
    "    dist = d / 10\n",
    "    print(f'Distance between 2 objects: {dist} m, Microgravity: {( G * 0.05 * 70 ) / ( dist * dist )} m/s^2')"
   ]
  },
  {
   "cell_type": "code",
   "execution_count": 3,
   "metadata": {},
   "outputs": [
    {
     "name": "stdout",
     "output_type": "stream",
     "text": [
      "Distance 0.1m between 2 objects with mObject: 0.1kg, Microgravity: 3.33715e-11 m/s^2\n",
      "Distance 1.0m between 2 objects with mObject: 0.1kg, Microgravity: 3.33715e-13 m/s^2\n",
      "Distance 0.1m between 2 objects with mObject: 0.2kg, Microgravity: 6.6743e-11 m/s^2\n",
      "Distance 1.0m between 2 objects with mObject: 0.2kg, Microgravity: 6.6743e-13 m/s^2\n",
      "Distance 0.1m between 2 objects with mObject: 0.5kg, Microgravity: 1.6685749999999996e-10 m/s^2\n",
      "Distance 1.0m between 2 objects with mObject: 0.5kg, Microgravity: 1.6685749999999999e-12 m/s^2\n",
      "Distance 0.1m between 2 objects with mObject: 1kg, Microgravity: 3.337149999999999e-10 m/s^2\n",
      "Distance 1.0m between 2 objects with mObject: 1kg, Microgravity: 3.3371499999999998e-12 m/s^2\n",
      "Distance 0.1m between 2 objects with mObject: 2kg, Microgravity: 6.674299999999998e-10 m/s^2\n",
      "Distance 1.0m between 2 objects with mObject: 2kg, Microgravity: 6.6742999999999995e-12 m/s^2\n",
      "Distance 0.1m between 2 objects with mObject: 5kg, Microgravity: 1.6685749999999995e-09 m/s^2\n",
      "Distance 1.0m between 2 objects with mObject: 5kg, Microgravity: 1.668575e-11 m/s^2\n",
      "Distance 0.1m between 2 objects with mObject: 10kg, Microgravity: 3.337149999999999e-09 m/s^2\n",
      "Distance 1.0m between 2 objects with mObject: 10kg, Microgravity: 3.33715e-11 m/s^2\n",
      "Distance 0.1m between 2 objects with mObject: 20kg, Microgravity: 6.674299999999998e-09 m/s^2\n",
      "Distance 1.0m between 2 objects with mObject: 20kg, Microgravity: 6.6743e-11 m/s^2\n",
      "Distance 0.1m between 2 objects with mObject: 50kg, Microgravity: 1.6685749999999994e-08 m/s^2\n",
      "Distance 1.0m between 2 objects with mObject: 50kg, Microgravity: 1.6685749999999998e-10 m/s^2\n",
      "Distance 0.1m between 2 objects with mObject: 70kg, Microgravity: 2.3360049999999995e-08 m/s^2\n",
      "Distance 1.0m between 2 objects with mObject: 70kg, Microgravity: 2.336005e-10 m/s^2\n"
     ]
    }
   ],
   "source": [
    "for m in [0.1, 0.2, 0.5, 1, 2, 5, 10, 20, 50, 70]:\n",
    "    for d in [1, 10]:\n",
    "        dist = d / 10\n",
    "        print(f'Distance {dist}m between 2 objects with mObject: {m}kg, Microgravity: {( G * 0.05 * m ) / ( dist * dist )} m/s^2')"
   ]
  },
  {
   "attachments": {},
   "cell_type": "markdown",
   "metadata": {},
   "source": [
    "## Data received"
   ]
  },
  {
   "attachments": {},
   "cell_type": "markdown",
   "metadata": {},
   "source": [
    "Sample: 0.01634800061583519 that means we would have enough decimals to calculate microgravity.\n",
    "\n",
    "Raspberry PI Documentation of Raspberry PI [Sense Hat](https://datasheets.raspberrypi.com/sense-hat/sense-hat-product-brief.pdf) says that the acceleration measurement range is until ±16g with 16-bit resolution.\n",
    "\n",
    "Official documentation of [LSM9DS1](https://www.st.com/resource/en/datasheet/lsm9ds1.pdf) says that the acceleration value is expressed as a 16-bit word in two’s complement and the accelerometer full-scale can be 00: ±2g; 01: ±16 g; 10: ±4 g; 11: ±8 g. The default accelerometer full-scale is ±2g.\n",
    "\n",
    "* linear acceleration sensitivity is measured in mg/LSB\n",
    "* linear acceleration typical zero-g level offset accuracy is ±90 mg with full-scale is ±8g\n",
    "\n",
    "In the AstroPI received the file named /etc/RTIMU.ini has saved LSM9DS1AccelFsr=3 that means ±8g.\n",
    "The sensitivity is 0.244 mg/LSB that means the acceleration raw has to be multipled by 0.244 to calculate the value in mG (see **Details**).\n",
    "\n",
    "In the library [sense-hat](https://github.com/astro-pi/python-sense-hat/blob/master/sense_hat/sense_hat.py) we have used the method named **get_accelerometer_raw**, so we should multiply by 0.244 mg/LSB to obtain acceleration values in mG.\n",
    "\n",
    "So for the sample accelerometer value, "
   ]
  },
  {
   "cell_type": "code",
   "execution_count": 1,
   "metadata": {},
   "outputs": [
    {
     "data": {
      "text/plain": [
       "0.0039889121502637865"
      ]
     },
     "execution_count": 1,
     "metadata": {},
     "output_type": "execute_result"
    }
   ],
   "source": [
    "0.01634800061583519 * 0.244 # = 0.0039889121502637865 mG = 0.0000039889121502637865 G"
   ]
  },
  {
   "attachments": {},
   "cell_type": "markdown",
   "metadata": {},
   "source": [
    "### Details\n",
    "\n",
    "Unit of measure\n",
    "\n",
    "* **mg** = milli-G’s (just like milliliters)\n",
    "* **1mG** = 0.001 G’s of acceleration, so 1000mG = 1G.\n",
    "* **LSB** = Least Significant bit, which is the last bit on the right.\n",
    "\n",
    "In this [reference](https://ozzmaker.com/accelerometer-to-g/) is explained that the y mg / x LSB is the factor to = y / x mG.\n",
    "Where\n",
    "\n",
    "* y is the resolution range of the full-scale: ±2g, ±4g, ±8g or ±16g\n",
    "* x is the output in 16 bits that it is equals to 65535 different readings\n",
    "\n",
    "Example:\n",
    "\n",
    "* for full-scale ±2g, y = 4000 mg and x = 65535 LSB\n",
    "* so when LSB changes by one, the value changes by y / x = 0.061 mg / LSB\n",
    "* if the acceleration raw value 4175 has to be multiplied by 0.061 = 4175 * 0.061 mG = 1018.7 mG ~ 1G"
   ]
  }
 ],
 "metadata": {
  "kernelspec": {
   "display_name": "Python 3.10.6 64-bit",
   "language": "python",
   "name": "python3"
  },
  "language_info": {
   "codemirror_mode": {
    "name": "ipython",
    "version": 3
   },
   "file_extension": ".py",
   "mimetype": "text/x-python",
   "name": "python",
   "nbconvert_exporter": "python",
   "pygments_lexer": "ipython3",
   "version": "3.10.10"
  },
  "orig_nbformat": 4,
  "vscode": {
   "interpreter": {
    "hash": "b0fa6594d8f4cbf19f97940f81e996739fb7646882a419484c72d19e05852a7e"
   }
  }
 },
 "nbformat": 4,
 "nbformat_minor": 2
}
