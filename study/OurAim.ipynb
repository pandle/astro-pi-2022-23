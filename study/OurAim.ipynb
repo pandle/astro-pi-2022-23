{
 "cells": [
  {
   "cell_type": "markdown",
   "metadata": {},
   "source": [
    "# ASTRO Pi & Microgravity\n",
    "\n",
    "$F_{g} = \\frac{(G * m_{Astro Pi} * m_{Object})}{d^2}$\n",
    "\n",
    "$F_{g} = \\frac{m}{s^2} = gravity$\n",
    "\n",
    "$G = 6.6743 * 10^{-11} \\frac{N * m^2}{kg^2}$\n",
    "\n",
    "$m_{Astro Pi} = 0.05 kg$\n",
    "\n",
    "$m_{Object} = 70 kg$\n",
    "\n",
    "$d = 0.5 m$"
   ]
  },
  {
   "cell_type": "code",
   "execution_count": 1,
   "metadata": {},
   "outputs": [],
   "source": [
    "from scipy.constants import G"
   ]
  },
  {
   "cell_type": "code",
   "execution_count": 2,
   "metadata": {},
   "outputs": [
    {
     "name": "stdout",
     "output_type": "stream",
     "text": [
      "Distance between 2 objects: 0.1 m, Microgravity: 2.3360049999999995e-08 m/s^2\n",
      "Distance between 2 objects: 0.2 m, Microgravity: 5.840012499999999e-09 m/s^2\n",
      "Distance between 2 objects: 0.3 m, Microgravity: 2.5955611111111115e-09 m/s^2\n",
      "Distance between 2 objects: 0.4 m, Microgravity: 1.4600031249999997e-09 m/s^2\n",
      "Distance between 2 objects: 0.5 m, Microgravity: 9.34402e-10 m/s^2\n",
      "Distance between 2 objects: 0.6 m, Microgravity: 6.488902777777779e-10 m/s^2\n",
      "Distance between 2 objects: 0.7 m, Microgravity: 4.767357142857143e-10 m/s^2\n",
      "Distance between 2 objects: 0.8 m, Microgravity: 3.650007812499999e-10 m/s^2\n",
      "Distance between 2 objects: 0.9 m, Microgravity: 2.8839567901234567e-10 m/s^2\n"
     ]
    }
   ],
   "source": [
    "for d in range(1, 10):\n",
    "    dist = d / 10\n",
    "    print(f'Distance between 2 objects: {dist} m, Microgravity: {( G * 0.05 * 70 ) / ( dist * dist )} m/s^2')"
   ]
  },
  {
   "cell_type": "code",
   "execution_count": 3,
   "metadata": {},
   "outputs": [
    {
     "name": "stdout",
     "output_type": "stream",
     "text": [
      "Distance 0.1m between 2 objects with mObject: 0.1kg, Microgravity: 3.33715e-11 m/s^2\n",
      "Distance 1.0m between 2 objects with mObject: 0.1kg, Microgravity: 3.33715e-13 m/s^2\n",
      "Distance 0.1m between 2 objects with mObject: 0.2kg, Microgravity: 6.6743e-11 m/s^2\n",
      "Distance 1.0m between 2 objects with mObject: 0.2kg, Microgravity: 6.6743e-13 m/s^2\n",
      "Distance 0.1m between 2 objects with mObject: 0.5kg, Microgravity: 1.6685749999999996e-10 m/s^2\n",
      "Distance 1.0m between 2 objects with mObject: 0.5kg, Microgravity: 1.6685749999999999e-12 m/s^2\n",
      "Distance 0.1m between 2 objects with mObject: 1kg, Microgravity: 3.337149999999999e-10 m/s^2\n",
      "Distance 1.0m between 2 objects with mObject: 1kg, Microgravity: 3.3371499999999998e-12 m/s^2\n",
      "Distance 0.1m between 2 objects with mObject: 2kg, Microgravity: 6.674299999999998e-10 m/s^2\n",
      "Distance 1.0m between 2 objects with mObject: 2kg, Microgravity: 6.6742999999999995e-12 m/s^2\n",
      "Distance 0.1m between 2 objects with mObject: 5kg, Microgravity: 1.6685749999999995e-09 m/s^2\n",
      "Distance 1.0m between 2 objects with mObject: 5kg, Microgravity: 1.668575e-11 m/s^2\n",
      "Distance 0.1m between 2 objects with mObject: 10kg, Microgravity: 3.337149999999999e-09 m/s^2\n",
      "Distance 1.0m between 2 objects with mObject: 10kg, Microgravity: 3.33715e-11 m/s^2\n",
      "Distance 0.1m between 2 objects with mObject: 20kg, Microgravity: 6.674299999999998e-09 m/s^2\n",
      "Distance 1.0m between 2 objects with mObject: 20kg, Microgravity: 6.6743e-11 m/s^2\n",
      "Distance 0.1m between 2 objects with mObject: 50kg, Microgravity: 1.6685749999999994e-08 m/s^2\n",
      "Distance 1.0m between 2 objects with mObject: 50kg, Microgravity: 1.6685749999999998e-10 m/s^2\n",
      "Distance 0.1m between 2 objects with mObject: 70kg, Microgravity: 2.3360049999999995e-08 m/s^2\n",
      "Distance 1.0m between 2 objects with mObject: 70kg, Microgravity: 2.336005e-10 m/s^2\n"
     ]
    }
   ],
   "source": [
    "for m in [0.1, 0.2, 0.5, 1, 2, 5, 10, 20, 50, 70]:\n",
    "    for d in [1, 10]:\n",
    "        dist = d / 10\n",
    "        print(f'Distance {dist}m between 2 objects with mObject: {m}kg, Microgravity: {( G * 0.05 * m ) / ( dist * dist )} m/s^2')"
   ]
  }
 ],
 "metadata": {
  "kernelspec": {
   "display_name": "Python 3.10.6 64-bit",
   "language": "python",
   "name": "python3"
  },
  "language_info": {
   "codemirror_mode": {
    "name": "ipython",
    "version": 3
   },
   "file_extension": ".py",
   "mimetype": "text/x-python",
   "name": "python",
   "nbconvert_exporter": "python",
   "pygments_lexer": "ipython3",
   "version": "3.10.6"
  },
  "orig_nbformat": 4,
  "vscode": {
   "interpreter": {
    "hash": "b0fa6594d8f4cbf19f97940f81e996739fb7646882a419484c72d19e05852a7e"
   }
  }
 },
 "nbformat": 4,
 "nbformat_minor": 2
}
